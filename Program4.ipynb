{
 "cells": [
  {
   "cell_type": "code",
   "execution_count": null,
   "id": "5d8ddc0b-97b9-4d9f-a40d-ae55c9086854",
   "metadata": {},
   "outputs": [],
   "source": []
  },
  {
   "cell_type": "code",
   "execution_count": 15,
   "id": "1fe4dc9a-ba31-418d-a89d-3cfd5f45f407",
   "metadata": {},
   "outputs": [
    {
     "name": "stdout",
     "output_type": "stream",
     "text": [
      "Learned Hypothesis:\n",
      " - Sunny AND Hot AND High AND Weak\n"
     ]
    }
   ],
   "source": [
    "import pandas as pd\n",
    "# Step 1: Read the CSV file into a pandas DataFrame\n",
    "def read_data(filename):\n",
    "    df = pd.read_csv(filename)\n",
    "    return df\n",
    "\n",
    "# Step 2: Implement the Find-S algorithm\n",
    "def find_s_algorithm(df):\n",
    "    # Assume the class label is in the last column (index -1)\n",
    "    # Separate the features (X) and the class labels (y)\n",
    "    X = df.iloc[:, :-1].values  # All columns except the last one (features)\n",
    "    y = df.iloc[:, -1].values   # Last column (class labels)\n",
    "    # Step 3: Find the first positive example and initialize the hypothesis\n",
    "    hypothesis = list(X[0])  # Start with the first positive example (most specific hypothesis)\n",
    "\n",
    "    # Step 4: For each positive example, generalize the hypothesis if necessary\n",
    "    for i in range(1, len(X)):\n",
    "        if y[i] == 1:  # Positive example\n",
    "            for j in range(len(hypothesis)):\n",
    "                # Generalize hypothesis to match the current example\n",
    "                if hypothesis[j] != X[i][j]:\n",
    "                    hypothesis[j] = '?'  # Use '?' to generalize (match any value)\n",
    "    \n",
    "    return hypothesis\n",
    "# Step 5: Display the learned hypothesis\n",
    "def display_hypothesis(hypothesis):\n",
    "    print(\"Learned Hypothesis:\")\n",
    "    print(\" - \" + \" AND \".join(str(feature) for feature in hypothesis))\n",
    "# Step 6: Main function to run the program\n",
    "def main():\n",
    "    # Replace 'train.csv' with your actual CSV file name\n",
    "    filename = 'train.csv'\n",
    "    \n",
    "    # Read the data\n",
    "    df = read_data(filename)\n",
    "    \n",
    "    # Apply the Find-S algorithm\n",
    "    hypothesis = find_s_algorithm(df)\n",
    "    \n",
    "    # Display the learned hypothesis\n",
    "    display_hypothesis(hypothesis)\n",
    "\n",
    "if __name__ == \"__main__\":\n",
    "    main()\n",
    "\n",
    "\n"
   ]
  },
  {
   "cell_type": "code",
   "execution_count": null,
   "id": "86fa87cb-ab5b-49a3-be27-7d81de5c7fb6",
   "metadata": {},
   "outputs": [],
   "source": []
  },
  {
   "cell_type": "code",
   "execution_count": 47,
   "id": "1b582d9b-8845-4f84-8a0f-d881e949c5b6",
   "metadata": {},
   "outputs": [],
   "source": []
  },
  {
   "cell_type": "code",
   "execution_count": null,
   "id": "c5ae5707-17f7-49ad-9f5b-87be9a38e7b0",
   "metadata": {},
   "outputs": [],
   "source": []
  },
  {
   "cell_type": "code",
   "execution_count": null,
   "id": "4f47fd67-e6c1-4549-a6cc-0d487851f6a3",
   "metadata": {},
   "outputs": [],
   "source": []
  },
  {
   "cell_type": "code",
   "execution_count": null,
   "id": "c4420c26-e1c1-4d84-9c02-4d4cdd06c79b",
   "metadata": {},
   "outputs": [],
   "source": []
  },
  {
   "cell_type": "code",
   "execution_count": null,
   "id": "94e60aba-b148-4602-afb1-f03185c79629",
   "metadata": {},
   "outputs": [],
   "source": []
  }
 ],
 "metadata": {
  "kernelspec": {
   "display_name": "Python [conda env:base] *",
   "language": "python",
   "name": "conda-base-py"
  },
  "language_info": {
   "codemirror_mode": {
    "name": "ipython",
    "version": 3
   },
   "file_extension": ".py",
   "mimetype": "text/x-python",
   "name": "python",
   "nbconvert_exporter": "python",
   "pygments_lexer": "ipython3",
   "version": "3.12.7"
  }
 },
 "nbformat": 4,
 "nbformat_minor": 5
}
